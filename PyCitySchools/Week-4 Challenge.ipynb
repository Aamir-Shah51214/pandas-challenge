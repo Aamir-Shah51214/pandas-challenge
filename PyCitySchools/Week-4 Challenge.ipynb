{
 "cells": [
  {
   "cell_type": "code",
   "execution_count": 32,
   "metadata": {},
   "outputs": [],
   "source": [
    "import pandas as pd\n",
    "file_path_1 = r\"C:\\Users\\quaid\\OneDrive\\Desktop\\Week_4_Challenge\\Starter_Code\\Starter_Code\\PyCitySchools\\Resources\\students_complete.csv\"\n",
    "df1 = pd.read_csv(file_path_1)\n",
    "file_path_2 = r\"C:\\Users\\quaid\\OneDrive\\Desktop\\Week_4_Challenge\\Starter_Code\\Starter_Code\\PyCitySchools\\Resources\\schools_complete.csv\"\n",
    "df2 = pd.read_csv(file_path_2)"
   ]
  },
  {
   "cell_type": "code",
   "execution_count": 33,
   "metadata": {},
   "outputs": [
    {
     "data": {
      "text/plain": [
       "24649428"
      ]
     },
     "execution_count": 33,
     "metadata": {},
     "output_type": "execute_result"
    }
   ],
   "source": [
    "total_schools =df1[\"school_name\"] .nunique()\n",
    "total_students =df1[\"student_name\"] .nunique()\n",
    "total_budget = df2.drop_duplicates(subset=\"school_name\")[\"budget\"].sum()\n",
    "total_budget"
   ]
  },
  {
   "cell_type": "code",
   "execution_count": 34,
   "metadata": {},
   "outputs": [],
   "source": [
    "average_math_score = df1[\"math_score\"].mean()\n",
    "average_reading_score = df1[\"reading_score\"].mean()\n",
    "passing_math = (df1[\"math_score\"] >= 70).mean() * 100\n",
    "passing_reading = (df1[\"reading_score\"] >= 70).mean() * 100\n",
    "overall_passing = ((df1[\"math_score\"] >= 70) & (df1[\"reading_score\"] >= 70)).mean() * 100"
   ]
  },
  {
   "cell_type": "markdown",
   "metadata": {},
   "source": [
    "District Summary"
   ]
  },
  {
   "cell_type": "code",
   "execution_count": 35,
   "metadata": {},
   "outputs": [],
   "source": [
    "district_summary = pd.DataFrame({\n",
    "    \"Total Schools\": [total_schools],\n",
    "    \"Total Students\": [total_students],\n",
    "    \"Total Budget\": [total_budget],\n",
    "    \"Average Math Score\": [average_math_score],\n",
    "    \"Average Reading Score\": [average_reading_score],\n",
    "    \"% Passing Math\": [passing_math],\n",
    "    \"% Passing Reading\": [passing_reading],\n",
    "    \"% Overall Passing\": [overall_passing],\n",
    "})"
   ]
  },
  {
   "cell_type": "code",
   "execution_count": 36,
   "metadata": {},
   "outputs": [
    {
     "name": "stdout",
     "output_type": "stream",
     "text": [
      "   Total Schools  Total Students  Total Budget  Average Math Score  \\\n",
      "0             15           32715      24649428           78.985371   \n",
      "\n",
      "   Average Reading Score  % Passing Math  % Passing Reading  % Overall Passing  \n",
      "0               81.87784       74.980853          85.805463          65.172326  \n"
     ]
    }
   ],
   "source": [
    "print(district_summary)"
   ]
  },
  {
   "cell_type": "code",
   "execution_count": 37,
   "metadata": {},
   "outputs": [],
   "source": [
    "Complete_df = pd.merge(df1, df2, on=\"school_name\")\n",
    "total_students = Complete_df.groupby(\"school_name\")[\"Student ID\"].count()\n",
    "total_budget = df2.set_index(\"school_name\")[\"budget\"]\n",
    "per_student_budget= total_budget/total_students\n",
    "avg_math_score = Complete_df.groupby(\"school_name\")[\"math_score\"].mean()\n",
    "avg_reading_score = Complete_df.groupby(\"school_name\")[\"reading_score\"].mean()\n",
    "passing_math = Complete_df[Complete_df[\"math_score\"] >= 70].groupby(\"school_name\")[\"Student ID\"].count() / total_students * 100\n",
    "passing_reading = Complete_df[Complete_df[\"reading_score\"] >= 70].groupby(\"school_name\")[\"Student ID\"].count() / total_students * 100\n",
    "overall_passing = Complete_df[(Complete_df[\"math_score\"] >= 70) & (Complete_df[\"reading_score\"] >= 70)].groupby(\"school_name\")[\"Student ID\"].count() / total_students * 100\n"
   ]
  },
  {
   "cell_type": "markdown",
   "metadata": {},
   "source": [
    "School Summary"
   ]
  },
  {
   "cell_type": "code",
   "execution_count": 38,
   "metadata": {},
   "outputs": [
    {
     "name": "stdout",
     "output_type": "stream",
     "text": [
      "                      School Type  Total Students Total School Budget  \\\n",
      "school_name                                                             \n",
      "Bailey High School       District            4976       $3,124,928.00   \n",
      "Cabrera High School       Charter            1858       $1,081,356.00   \n",
      "Figueroa High School     District            2949       $1,884,411.00   \n",
      "Ford High School         District            2739       $1,763,916.00   \n",
      "Griffin High School       Charter            1468         $917,500.00   \n",
      "Hernandez High School    District            4635       $3,022,020.00   \n",
      "Holden High School        Charter             427         $248,087.00   \n",
      "Huang High School        District            2917       $1,910,635.00   \n",
      "Johnson High School      District            4761       $3,094,650.00   \n",
      "Pena High School          Charter             962         $585,858.00   \n",
      "Rodriguez High School    District            3999       $2,547,363.00   \n",
      "Shelton High School       Charter            1761       $1,056,600.00   \n",
      "Thomas High School        Charter            1635       $1,043,130.00   \n",
      "Wilson High School        Charter            2283       $1,319,574.00   \n",
      "Wright High School        Charter            1800       $1,049,400.00   \n",
      "\n",
      "                      Per Student Budget  Average Math Score  \\\n",
      "school_name                                                    \n",
      "Bailey High School               $628.00           77.048432   \n",
      "Cabrera High School              $582.00           83.061895   \n",
      "Figueroa High School             $639.00           76.711767   \n",
      "Ford High School                 $644.00           77.102592   \n",
      "Griffin High School              $625.00           83.351499   \n",
      "Hernandez High School            $652.00           77.289752   \n",
      "Holden High School               $581.00           83.803279   \n",
      "Huang High School                $655.00           76.629414   \n",
      "Johnson High School              $650.00           77.072464   \n",
      "Pena High School                 $609.00           83.839917   \n",
      "Rodriguez High School            $637.00           76.842711   \n",
      "Shelton High School              $600.00           83.359455   \n",
      "Thomas High School               $638.00           83.418349   \n",
      "Wilson High School               $578.00           83.274201   \n",
      "Wright High School               $583.00           83.682222   \n",
      "\n",
      "                       Average Reading Score  % Passing Math  \\\n",
      "school_name                                                    \n",
      "Bailey High School                 81.033963       66.680064   \n",
      "Cabrera High School                83.975780       94.133477   \n",
      "Figueroa High School               81.158020       65.988471   \n",
      "Ford High School                   80.746258       68.309602   \n",
      "Griffin High School                83.816757       93.392371   \n",
      "Hernandez High School              80.934412       66.752967   \n",
      "Holden High School                 83.814988       92.505855   \n",
      "Huang High School                  81.182722       65.683922   \n",
      "Johnson High School                80.966394       66.057551   \n",
      "Pena High School                   84.044699       94.594595   \n",
      "Rodriguez High School              80.744686       66.366592   \n",
      "Shelton High School                83.725724       93.867121   \n",
      "Thomas High School                 83.848930       93.272171   \n",
      "Wilson High School                 83.989488       93.867718   \n",
      "Wright High School                 83.955000       93.333333   \n",
      "\n",
      "                       % Passing Reading  % Overall Passing  \n",
      "school_name                                                  \n",
      "Bailey High School             81.933280          54.642283  \n",
      "Cabrera High School            97.039828          91.334769  \n",
      "Figueroa High School           80.739234          53.204476  \n",
      "Ford High School               79.299014          54.289887  \n",
      "Griffin High School            97.138965          90.599455  \n",
      "Hernandez High School          80.862999          53.527508  \n",
      "Holden High School             96.252927          89.227166  \n",
      "Huang High School              81.316421          53.513884  \n",
      "Johnson High School            81.222432          53.539172  \n",
      "Pena High School               95.945946          90.540541  \n",
      "Rodriguez High School          80.220055          52.988247  \n",
      "Shelton High School            95.854628          89.892107  \n",
      "Thomas High School             97.308869          90.948012  \n",
      "Wilson High School             96.539641          90.582567  \n",
      "Wright High School             96.611111          90.333333  \n"
     ]
    }
   ],
   "source": [
    "school_summary_df = pd.DataFrame({\n",
    "    \"School Type\": df2.set_index(\"school_name\")[\"type\"],\n",
    "    \"Total Students\": total_students,\n",
    "    \"Total School Budget\": total_budget,\n",
    "    \"Per Student Budget\": per_student_budget,\n",
    "    \"Average Math Score\": avg_math_score,\n",
    "    \"Average Reading Score\": avg_reading_score,\n",
    "    \"% Passing Math\": passing_math,\n",
    "    \"% Passing Reading\": passing_reading,\n",
    "    \"% Overall Passing\": overall_passing\n",
    "})\n",
    "\n",
    "school_summary_df[\"Total School Budget\"] = school_summary_df[\"Total School Budget\"].map(\"${:,.2f}\".format)\n",
    "school_summary_df[\"Per Student Budget\"] = school_summary_df[\"Per Student Budget\"].map(\"${:,.2f}\".format)\n",
    "\n",
    "print(school_summary_df)\n"
   ]
  },
  {
   "cell_type": "markdown",
   "metadata": {},
   "source": [
    "Highest-Performing Schools (by % Overall Passing)"
   ]
  },
  {
   "cell_type": "code",
   "execution_count": 39,
   "metadata": {},
   "outputs": [
    {
     "name": "stdout",
     "output_type": "stream",
     "text": [
      "                    School Type  Total Students Total School Budget  \\\n",
      "school_name                                                           \n",
      "Cabrera High School     Charter            1858       $1,081,356.00   \n",
      "Thomas High School      Charter            1635       $1,043,130.00   \n",
      "Griffin High School     Charter            1468         $917,500.00   \n",
      "Wilson High School      Charter            2283       $1,319,574.00   \n",
      "Pena High School        Charter             962         $585,858.00   \n",
      "\n",
      "                    Per Student Budget  Average Math Score  \\\n",
      "school_name                                                  \n",
      "Cabrera High School            $582.00           83.061895   \n",
      "Thomas High School             $638.00           83.418349   \n",
      "Griffin High School            $625.00           83.351499   \n",
      "Wilson High School             $578.00           83.274201   \n",
      "Pena High School               $609.00           83.839917   \n",
      "\n",
      "                     Average Reading Score  % Passing Math  % Passing Reading  \\\n",
      "school_name                                                                     \n",
      "Cabrera High School              83.975780       94.133477          97.039828   \n",
      "Thomas High School               83.848930       93.272171          97.308869   \n",
      "Griffin High School              83.816757       93.392371          97.138965   \n",
      "Wilson High School               83.989488       93.867718          96.539641   \n",
      "Pena High School                 84.044699       94.594595          95.945946   \n",
      "\n",
      "                     % Overall Passing  \n",
      "school_name                             \n",
      "Cabrera High School          91.334769  \n",
      "Thomas High School           90.948012  \n",
      "Griffin High School          90.599455  \n",
      "Wilson High School           90.582567  \n",
      "Pena High School             90.540541  \n"
     ]
    }
   ],
   "source": [
    "top_schools = school_summary_df.sort_values(\"% Overall Passing\", ascending=False).head(5)\n",
    "print(top_schools)\n"
   ]
  },
  {
   "cell_type": "markdown",
   "metadata": {},
   "source": [
    "Lowest-Performing Schools (by % Overall Passing)"
   ]
  },
  {
   "cell_type": "code",
   "execution_count": 40,
   "metadata": {},
   "outputs": [
    {
     "name": "stdout",
     "output_type": "stream",
     "text": [
      "                      School Type  Total Students Total School Budget  \\\n",
      "school_name                                                             \n",
      "Rodriguez High School    District            3999       $2,547,363.00   \n",
      "Figueroa High School     District            2949       $1,884,411.00   \n",
      "Huang High School        District            2917       $1,910,635.00   \n",
      "Hernandez High School    District            4635       $3,022,020.00   \n",
      "Johnson High School      District            4761       $3,094,650.00   \n",
      "\n",
      "                      Per Student Budget  Average Math Score  \\\n",
      "school_name                                                    \n",
      "Rodriguez High School            $637.00           76.842711   \n",
      "Figueroa High School             $639.00           76.711767   \n",
      "Huang High School                $655.00           76.629414   \n",
      "Hernandez High School            $652.00           77.289752   \n",
      "Johnson High School              $650.00           77.072464   \n",
      "\n",
      "                       Average Reading Score  % Passing Math  \\\n",
      "school_name                                                    \n",
      "Rodriguez High School              80.744686       66.366592   \n",
      "Figueroa High School               81.158020       65.988471   \n",
      "Huang High School                  81.182722       65.683922   \n",
      "Hernandez High School              80.934412       66.752967   \n",
      "Johnson High School                80.966394       66.057551   \n",
      "\n",
      "                       % Passing Reading  % Overall Passing  \n",
      "school_name                                                  \n",
      "Rodriguez High School          80.220055          52.988247  \n",
      "Figueroa High School           80.739234          53.204476  \n",
      "Huang High School              81.316421          53.513884  \n",
      "Hernandez High School          80.862999          53.527508  \n",
      "Johnson High School            81.222432          53.539172  \n"
     ]
    }
   ],
   "source": [
    "bottom_schools = school_summary_df.sort_values(\"% Overall Passing\", ascending=True).head(5)\n",
    "print(bottom_schools)\n"
   ]
  },
  {
   "cell_type": "markdown",
   "metadata": {},
   "source": [
    "Math and Reading Scores by Grade"
   ]
  },
  {
   "cell_type": "code",
   "execution_count": 41,
   "metadata": {},
   "outputs": [
    {
     "name": "stdout",
     "output_type": "stream",
     "text": [
      "grade                       10th       11th       12th        9th\n",
      "school_name                                                      \n",
      "Bailey High School     76.996772  77.515588  76.492218  77.083676\n",
      "Cabrera High School    83.154506  82.765560  83.277487  83.094697\n",
      "Figueroa High School   76.539974  76.884344  77.151369  76.403037\n",
      "Ford High School       77.672316  76.918058  76.179963  77.361345\n",
      "Griffin High School    84.229064  83.842105  83.356164  82.044010\n",
      "Hernandez High School  77.337408  77.136029  77.186567  77.438495\n",
      "Holden High School     83.429825  85.000000  82.855422  83.787402\n",
      "Huang High School      75.908735  76.446602  77.225641  77.027251\n",
      "Johnson High School    76.691117  77.491653  76.863248  77.187857\n",
      "Pena High School       83.372000  84.328125  84.121547  83.625455\n",
      "Rodriguez High School  76.612500  76.395626  77.690748  76.859966\n",
      "Shelton High School    82.917411  83.383495  83.778976  83.420755\n",
      "Thomas High School     83.087886  83.498795  83.497041  83.590022\n",
      "Wilson High School     83.724422  83.195326  83.035794  83.085578\n",
      "Wright High School     84.010288  83.836782  83.644986  83.264706\n"
     ]
    }
   ],
   "source": [
    "math_scores_by_grade = Complete_df.groupby([\"school_name\", \"grade\"])[\"math_score\"].mean().unstack()\n",
    "print(math_scores_by_grade)\n"
   ]
  },
  {
   "cell_type": "code",
   "execution_count": 42,
   "metadata": {},
   "outputs": [
    {
     "name": "stdout",
     "output_type": "stream",
     "text": [
      "grade                       10th       11th       12th        9th\n",
      "school_name                                                      \n",
      "Bailey High School     80.907183  80.945643  80.912451  81.303155\n",
      "Cabrera High School    84.253219  83.788382  84.287958  83.676136\n",
      "Figueroa High School   81.408912  80.640339  81.384863  81.198598\n",
      "Ford High School       81.262712  80.403642  80.662338  80.632653\n",
      "Griffin High School    83.706897  84.288089  84.013699  83.369193\n",
      "Hernandez High School  80.660147  81.396140  80.857143  80.866860\n",
      "Holden High School     83.324561  83.815534  84.698795  83.677165\n",
      "Huang High School      81.512386  81.417476  80.305983  81.290284\n",
      "Johnson High School    80.773431  80.616027  81.227564  81.260714\n",
      "Pena High School       83.612000  84.335938  84.591160  83.807273\n",
      "Rodriguez High School  80.629808  80.864811  80.376426  80.993127\n",
      "Shelton High School    83.441964  84.373786  82.781671  84.122642\n",
      "Thomas High School     84.254157  83.585542  83.831361  83.728850\n",
      "Wilson High School     84.021452  83.764608  84.317673  83.939778\n",
      "Wright High School     83.812757  84.156322  84.073171  83.833333\n"
     ]
    }
   ],
   "source": [
    "reading_scores_by_grade = Complete_df.groupby([\"school_name\", \"grade\"])[\"reading_score\"].mean().unstack()\n",
    "print(reading_scores_by_grade)\n"
   ]
  },
  {
   "cell_type": "markdown",
   "metadata": {},
   "source": [
    "Scores by School Spending"
   ]
  },
  {
   "cell_type": "code",
   "execution_count": 43,
   "metadata": {},
   "outputs": [
    {
     "name": "stdout",
     "output_type": "stream",
     "text": [
      "                               Average Math Score  Average Reading Score  \\\n",
      "Spending Ranges (Per Student)                                              \n",
      "<$585                                   83.455399              83.933814   \n",
      "$585-630                                81.899826              83.155286   \n",
      "$630-645                                78.518855              81.624473   \n",
      "$645-680                                76.997210              81.027843   \n",
      "\n",
      "                               % Passing Math  % Passing Reading  \\\n",
      "Spending Ranges (Per Student)                                      \n",
      "<$585                               93.460096          96.610877   \n",
      "$585-630                            87.133538          92.718205   \n",
      "$630-645                            73.484209          84.391793   \n",
      "$645-680                            66.164813          81.133951   \n",
      "\n",
      "                               % Overall Passing  \n",
      "Spending Ranges (Per Student)                     \n",
      "<$585                                  90.369459  \n",
      "$585-630                               81.418596  \n",
      "$630-645                               62.857656  \n",
      "$645-680                               53.526855  \n"
     ]
    },
    {
     "name": "stderr",
     "output_type": "stream",
     "text": [
      "C:\\Users\\quaid\\AppData\\Local\\Temp\\ipykernel_39568\\3329943839.py:9: FutureWarning: The default of observed=False is deprecated and will be changed to True in a future version of pandas. Pass observed=False to retain current behavior or observed=True to adopt the future default and silence this warning.\n",
      "  spending_math_scores = school_summary_df.groupby(\"Spending Ranges (Per Student)\")[\"Average Math Score\"].mean()\n",
      "C:\\Users\\quaid\\AppData\\Local\\Temp\\ipykernel_39568\\3329943839.py:10: FutureWarning: The default of observed=False is deprecated and will be changed to True in a future version of pandas. Pass observed=False to retain current behavior or observed=True to adopt the future default and silence this warning.\n",
      "  spending_reading_scores = school_summary_df.groupby(\"Spending Ranges (Per Student)\")[\"Average Reading Score\"].mean()\n",
      "C:\\Users\\quaid\\AppData\\Local\\Temp\\ipykernel_39568\\3329943839.py:11: FutureWarning: The default of observed=False is deprecated and will be changed to True in a future version of pandas. Pass observed=False to retain current behavior or observed=True to adopt the future default and silence this warning.\n",
      "  spending_passing_math = school_summary_df.groupby(\"Spending Ranges (Per Student)\")[\"% Passing Math\"].mean()\n",
      "C:\\Users\\quaid\\AppData\\Local\\Temp\\ipykernel_39568\\3329943839.py:12: FutureWarning: The default of observed=False is deprecated and will be changed to True in a future version of pandas. Pass observed=False to retain current behavior or observed=True to adopt the future default and silence this warning.\n",
      "  spending_passing_reading = school_summary_df.groupby(\"Spending Ranges (Per Student)\")[\"% Passing Reading\"].mean()\n",
      "C:\\Users\\quaid\\AppData\\Local\\Temp\\ipykernel_39568\\3329943839.py:13: FutureWarning: The default of observed=False is deprecated and will be changed to True in a future version of pandas. Pass observed=False to retain current behavior or observed=True to adopt the future default and silence this warning.\n",
      "  overall_passing_spending = school_summary_df.groupby(\"Spending Ranges (Per Student)\")[\"% Overall Passing\"].mean()\n"
     ]
    }
   ],
   "source": [
    "spending_bins = [0, 585, 630, 645, 680]\n",
    "spending_labels = [\"<$585\", \"$585-630\", \"$630-645\", \"$645-680\"]\n",
    "\n",
    "school_summary_df[\"Spending Ranges (Per Student)\"] = pd.cut(\n",
    "    school_summary_df[\"Per Student Budget\"].replace(\"[$,]\", \"\", regex=True).astype(float),\n",
    "    bins=spending_bins,\n",
    "    labels=spending_labels\n",
    ")\n",
    "spending_math_scores = school_summary_df.groupby(\"Spending Ranges (Per Student)\")[\"Average Math Score\"].mean()\n",
    "spending_reading_scores = school_summary_df.groupby(\"Spending Ranges (Per Student)\")[\"Average Reading Score\"].mean()\n",
    "spending_passing_math = school_summary_df.groupby(\"Spending Ranges (Per Student)\")[\"% Passing Math\"].mean()\n",
    "spending_passing_reading = school_summary_df.groupby(\"Spending Ranges (Per Student)\")[\"% Passing Reading\"].mean()\n",
    "overall_passing_spending = school_summary_df.groupby(\"Spending Ranges (Per Student)\")[\"% Overall Passing\"].mean()\n",
    "\n",
    "spending_summary = pd.DataFrame({\n",
    "    \"Average Math Score\": spending_math_scores,\n",
    "    \"Average Reading Score\": spending_reading_scores,\n",
    "    \"% Passing Math\": spending_passing_math,\n",
    "    \"% Passing Reading\": spending_passing_reading,\n",
    "    \"% Overall Passing\": overall_passing_spending\n",
    "})\n",
    "\n",
    "print(spending_summary)\n"
   ]
  },
  {
   "cell_type": "markdown",
   "metadata": {},
   "source": [
    "Scores by School Size"
   ]
  },
  {
   "cell_type": "code",
   "execution_count": 44,
   "metadata": {},
   "outputs": [
    {
     "name": "stdout",
     "output_type": "stream",
     "text": [
      "                    Average Math Score  Average Reading Score  % Passing Math  \\\n",
      "School Size                                                                     \n",
      "Small (<1000)                83.821598              83.929843       93.550225   \n",
      "Medium (1000-2000)           83.374684              83.864438       93.599695   \n",
      "Large (2000-5000)            77.746417              81.344493       69.963361   \n",
      "\n",
      "                    % Passing Reading  % Overall Passing  \n",
      "School Size                                               \n",
      "Small (<1000)               96.099437          89.883853  \n",
      "Medium (1000-2000)          96.790680          90.621535  \n",
      "Large (2000-5000)           82.766634          58.286003  \n"
     ]
    },
    {
     "name": "stderr",
     "output_type": "stream",
     "text": [
      "C:\\Users\\quaid\\AppData\\Local\\Temp\\ipykernel_39568\\594187044.py:10: FutureWarning: The default of observed=False is deprecated and will be changed to True in a future version of pandas. Pass observed=False to retain current behavior or observed=True to adopt the future default and silence this warning.\n",
      "  size_math_scores = school_summary_df.groupby(\"School Size\")[\"Average Math Score\"].mean()\n",
      "C:\\Users\\quaid\\AppData\\Local\\Temp\\ipykernel_39568\\594187044.py:11: FutureWarning: The default of observed=False is deprecated and will be changed to True in a future version of pandas. Pass observed=False to retain current behavior or observed=True to adopt the future default and silence this warning.\n",
      "  size_reading_scores = school_summary_df.groupby(\"School Size\")[\"Average Reading Score\"].mean()\n",
      "C:\\Users\\quaid\\AppData\\Local\\Temp\\ipykernel_39568\\594187044.py:12: FutureWarning: The default of observed=False is deprecated and will be changed to True in a future version of pandas. Pass observed=False to retain current behavior or observed=True to adopt the future default and silence this warning.\n",
      "  size_passing_math = school_summary_df.groupby(\"School Size\")[\"% Passing Math\"].mean()\n",
      "C:\\Users\\quaid\\AppData\\Local\\Temp\\ipykernel_39568\\594187044.py:13: FutureWarning: The default of observed=False is deprecated and will be changed to True in a future version of pandas. Pass observed=False to retain current behavior or observed=True to adopt the future default and silence this warning.\n",
      "  size_passing_reading = school_summary_df.groupby(\"School Size\")[\"% Passing Reading\"].mean()\n",
      "C:\\Users\\quaid\\AppData\\Local\\Temp\\ipykernel_39568\\594187044.py:14: FutureWarning: The default of observed=False is deprecated and will be changed to True in a future version of pandas. Pass observed=False to retain current behavior or observed=True to adopt the future default and silence this warning.\n",
      "  size_overall_passing = school_summary_df.groupby(\"School Size\")[\"% Overall Passing\"].mean()\n"
     ]
    }
   ],
   "source": [
    "size_bins = [0, 1000, 2000, 5000]\n",
    "size_labels = [\"Small (<1000)\", \"Medium (1000-2000)\", \"Large (2000-5000)\"]\n",
    "\n",
    "school_summary_df[\"School Size\"] = pd.cut(\n",
    "    school_summary_df[\"Total Students\"],\n",
    "    bins=size_bins,\n",
    "    labels=size_labels\n",
    ")\n",
    "\n",
    "size_math_scores = school_summary_df.groupby(\"School Size\")[\"Average Math Score\"].mean()\n",
    "size_reading_scores = school_summary_df.groupby(\"School Size\")[\"Average Reading Score\"].mean()\n",
    "size_passing_math = school_summary_df.groupby(\"School Size\")[\"% Passing Math\"].mean()\n",
    "size_passing_reading = school_summary_df.groupby(\"School Size\")[\"% Passing Reading\"].mean()\n",
    "size_overall_passing = school_summary_df.groupby(\"School Size\")[\"% Overall Passing\"].mean()\n",
    "size_summary = pd.DataFrame({\n",
    "    \"Average Math Score\": size_math_scores,\n",
    "    \"Average Reading Score\": size_reading_scores,\n",
    "    \"% Passing Math\": size_passing_math,\n",
    "    \"% Passing Reading\": size_passing_reading,\n",
    "    \"% Overall Passing\": size_overall_passing\n",
    "})\n",
    "\n",
    "print(size_summary)\n"
   ]
  },
  {
   "cell_type": "markdown",
   "metadata": {},
   "source": [
    "Scores by School Type"
   ]
  },
  {
   "cell_type": "code",
   "execution_count": 45,
   "metadata": {},
   "outputs": [
    {
     "name": "stdout",
     "output_type": "stream",
     "text": [
      "             Average Math Score  Average Reading Score  % Passing Math  \\\n",
      "School Type                                                              \n",
      "Charter               83.473852              83.896421       93.620830   \n",
      "District              76.956733              80.966636       66.548453   \n",
      "\n",
      "             % Passing Reading  % Overall Passing  \n",
      "School Type                                        \n",
      "Charter              96.586489          90.432244  \n",
      "District             80.799062          53.672208  \n"
     ]
    }
   ],
   "source": [
    "# Group by school type and calculate averages\n",
    "type_math_scores = school_summary_df.groupby(\"School Type\")[\"Average Math Score\"].mean()\n",
    "type_reading_scores = school_summary_df.groupby(\"School Type\")[\"Average Reading Score\"].mean()\n",
    "type_passing_math = school_summary_df.groupby(\"School Type\")[\"% Passing Math\"].mean()\n",
    "type_passing_reading = school_summary_df.groupby(\"School Type\")[\"% Passing Reading\"].mean()\n",
    "type_overall_passing = school_summary_df.groupby(\"School Type\")[\"% Overall Passing\"].mean()\n",
    "\n",
    "# Create the summary DataFrame\n",
    "type_summary = pd.DataFrame({\n",
    "    \"Average Math Score\": type_math_scores,\n",
    "    \"Average Reading Score\": type_reading_scores,\n",
    "    \"% Passing Math\": type_passing_math,\n",
    "    \"% Passing Reading\": type_passing_reading,\n",
    "    \"% Overall Passing\": type_overall_passing\n",
    "})\n",
    "\n",
    "print(type_summary)\n"
   ]
  }
 ],
 "metadata": {
  "kernelspec": {
   "display_name": "base",
   "language": "python",
   "name": "python3"
  },
  "language_info": {
   "codemirror_mode": {
    "name": "ipython",
    "version": 3
   },
   "file_extension": ".py",
   "mimetype": "text/x-python",
   "name": "python",
   "nbconvert_exporter": "python",
   "pygments_lexer": "ipython3",
   "version": "3.12.7"
  }
 },
 "nbformat": 4,
 "nbformat_minor": 2
}
